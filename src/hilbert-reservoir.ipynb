{
 "cells": [
  {
   "cell_type": "code",
   "execution_count": 1,
   "metadata": {},
   "outputs": [
    {
     "name": "stderr",
     "output_type": "stream",
     "text": [
      "2023-04-30 17:31:43.988310: I tensorflow/tsl/cuda/cudart_stub.cc:28] Could not find cuda drivers on your machine, GPU will not be used.\n",
      "2023-04-30 17:31:44.104836: I tensorflow/tsl/cuda/cudart_stub.cc:28] Could not find cuda drivers on your machine, GPU will not be used.\n",
      "2023-04-30 17:31:44.107711: I tensorflow/core/platform/cpu_feature_guard.cc:182] This TensorFlow binary is optimized to use available CPU instructions in performance-critical operations.\n",
      "To enable the following instructions: AVX2 FMA, in other operations, rebuild TensorFlow with the appropriate compiler flags.\n",
      "2023-04-30 17:31:45.373503: W tensorflow/compiler/tf2tensorrt/utils/py_utils.cc:38] TF-TRT Warning: Could not find TensorRT\n"
     ]
    }
   ],
   "source": [
    "import matplotlib\n",
    "import matplotlib.pyplot as plt\n",
    "import pandas as pd\n",
    "import numpy as np\n",
    "import tensorflow as tf\n",
    "from tensorflow import keras\n",
    "from tensorflow.keras import layers\n",
    "import sklearn.datasets\n",
    "import sklearn.model_selection\n",
    "from sklearn.preprocessing import OneHotEncoder\n",
    "\n",
    "# import mnist digits dataset\n",
    "mnist = tf.keras.datasets.mnist # Object of the MNIST dataset\n",
    "(x_train, y_train),(x_test, y_test) = mnist.load_data()"
   ]
  },
  {
   "cell_type": "code",
   "execution_count": 28,
   "metadata": {},
   "outputs": [],
   "source": [
    "# DATA TRUNCATION FOR TEST\n",
    "x_train = x_train[:100]\n",
    "y_train = y_train[:100]\n",
    "x_test = x_test[:100]\n",
    "y_test = y_test[:100]"
   ]
  },
  {
   "cell_type": "code",
   "execution_count": 29,
   "metadata": {},
   "outputs": [],
   "source": [
    "# Normalize the train dataset\n",
    "x_train = tf.keras.utils.normalize(x_train, axis=1)\n",
    "# Normalize the test dataset\n",
    "x_test = tf.keras.utils.normalize(x_test, axis=1)"
   ]
  },
  {
   "attachments": {},
   "cell_type": "markdown",
   "metadata": {},
   "source": [
    "# Hilbert Curve translation"
   ]
  },
  {
   "cell_type": "code",
   "execution_count": 30,
   "metadata": {},
   "outputs": [],
   "source": [
    "# Hilbert path generator\n",
    "# ALL CREDIT TO: https://github.com/jakubcerveny/gilbert/blob/master/gilbert2d.py\n",
    "# ALL CREDIT TO @jakubcerveny on GitHub\n",
    "\n",
    "def sgn(x):\n",
    "    return -1 if x < 0 else (1 if x > 0 else 0)\n",
    "\n",
    "def generate_path(x,y,ax,ay,bx,by):\n",
    "    w = abs(ax + ay)\n",
    "    h = abs(bx + by)\n",
    "\n",
    "    (dax, day) = (sgn(ax), sgn(ay)) # unit major direction\n",
    "    (dbx, dby) = (sgn(bx), sgn(by)) # unit orthogonal direction\n",
    "\n",
    "    if h == 1:\n",
    "        # trivial row fill\n",
    "        for i in range(0, w):\n",
    "            yield(x, y)\n",
    "            (x, y) = (x + dax, y + day)\n",
    "        return\n",
    "\n",
    "    if w == 1:\n",
    "        # trivial column fill\n",
    "        for i in range(0, h):\n",
    "            yield(x, y)\n",
    "            (x, y) = (x + dbx, y + dby)\n",
    "        return\n",
    "\n",
    "    (ax2, ay2) = (ax//2, ay//2)\n",
    "    (bx2, by2) = (bx//2, by//2)\n",
    "\n",
    "    w2 = abs(ax2 + ay2)\n",
    "    h2 = abs(bx2 + by2)\n",
    "\n",
    "    if 2*w > 3*h:\n",
    "        if (w2 % 2) and (w > 2):\n",
    "            # prefer even steps\n",
    "            (ax2, ay2) = (ax2 + dax, ay2 + day)\n",
    "\n",
    "        # long case: split in two parts only\n",
    "        yield from generate_path(x, y, ax2, ay2, bx, by)\n",
    "        yield from generate_path(x+ax2, y+ay2, ax-ax2, ay-ay2, bx, by)\n",
    "\n",
    "    else:\n",
    "        if (h2 % 2) and (h > 2):\n",
    "            # prefer even steps\n",
    "            (bx2, by2) = (bx2 + dbx, by2 + dby)\n",
    "\n",
    "        # standard case: one step up, one long horizontal, one step down\n",
    "        yield from generate_path(x, y, bx2, by2, ax2, ay2)\n",
    "        yield from generate_path(x+bx2, y+by2, ax, ay, bx-bx2, by-by2)\n",
    "        yield from generate_path(x+(ax-dax)+(bx2-dbx), y+(ay-day)+(by2-dby),\n",
    "                              -bx2, -by2, -(ax-ax2), -(ay-ay2))\n",
    "\n",
    "def hilbert_path(n):\n",
    "    yield from generate_path(0,0,n,0,0,n)\n"
   ]
  },
  {
   "cell_type": "code",
   "execution_count": 31,
   "metadata": {},
   "outputs": [],
   "source": [
    "def dim_reduction(image):\n",
    "    # Translate 2D image into 1D vector using Hilbert curve\n",
    "    # image: 2D numpy array (28x28) or (nxn)\n",
    "    # return: 1D numpy array\n",
    "    width = image.shape[0]\n",
    "    \n",
    "    # Generate Hilbert curve path\n",
    "    path = hilbert_path(width)\n",
    "    # 1D vector widthxwidth\n",
    "    vector = np.zeros(width*width)\n",
    "    # Fill vector with image values\n",
    "    for i, (x, y) in enumerate(path):\n",
    "        vector[i] = image[x][y]\n",
    "    return vector\n"
   ]
  },
  {
   "cell_type": "code",
   "execution_count": 32,
   "metadata": {},
   "outputs": [],
   "source": [
    "# # Basic test\n",
    "# print(np.array([[0,0,.25,.25],[0,0,.25,.25],[.75,.75,1,1],[.75,.75,1,1]]))\n",
    "# print(dim_reduction(np.array([[0,0,.25,.25],[0,0,.25,.25],[.75,.75,1,1],[.75,.75,1,1]])))"
   ]
  },
  {
   "attachments": {},
   "cell_type": "markdown",
   "metadata": {},
   "source": [
    "### Translating MNIST\n",
    "\n",
    "Note: This takes a long time!"
   ]
  },
  {
   "cell_type": "code",
   "execution_count": 33,
   "metadata": {},
   "outputs": [],
   "source": [
    "x_train = np.array([dim_reduction(x) for x in x_train])\n",
    "x_test = np.array([dim_reduction(x) for x in x_test])"
   ]
  },
  {
   "attachments": {},
   "cell_type": "markdown",
   "metadata": {},
   "source": [
    "### Converting to time series"
   ]
  },
  {
   "cell_type": "code",
   "execution_count": 34,
   "metadata": {},
   "outputs": [],
   "source": [
    "train_width = 28*28*x_train.shape[0]\n",
    "test_width = 28*28*x_test.shape[0]\n",
    "x_train = x_train.flatten()\n",
    "x_test = x_test.flatten()"
   ]
  },
  {
   "cell_type": "code",
   "execution_count": 35,
   "metadata": {},
   "outputs": [],
   "source": [
    "y_train = np.array([[y for _ in range(28*28)] for y in y_train]).flatten()\n",
    "y_test = np.array([[y for _ in range(28*28)] for y in y_test]).flatten()"
   ]
  },
  {
   "cell_type": "code",
   "execution_count": 36,
   "metadata": {},
   "outputs": [],
   "source": [
    "enc = OneHotEncoder(handle_unknown='ignore', sparse=False)\n",
    "\n",
    "enc = enc.fit(y_train.reshape(-1,1))\n",
    "\n",
    "y_train = enc.transform(y_train.reshape(-1,1))\n",
    "y_test = enc.transform(y_test.reshape(-1,1))"
   ]
  },
  {
   "attachments": {},
   "cell_type": "markdown",
   "metadata": {},
   "source": [
    "# Reservoir Computer"
   ]
  },
  {
   "cell_type": "code",
   "execution_count": null,
   "metadata": {},
   "outputs": [],
   "source": []
  }
 ],
 "metadata": {
  "kernelspec": {
   "display_name": "base",
   "language": "python",
   "name": "python3"
  },
  "language_info": {
   "codemirror_mode": {
    "name": "ipython",
    "version": 3
   },
   "file_extension": ".py",
   "mimetype": "text/x-python",
   "name": "python",
   "nbconvert_exporter": "python",
   "pygments_lexer": "ipython3",
   "version": "3.9.13"
  },
  "orig_nbformat": 4,
  "vscode": {
   "interpreter": {
    "hash": "93986647664ea508ac635b1ed93d9c84b7e747e90f968af4a5ecab2c6c248f83"
   }
  }
 },
 "nbformat": 4,
 "nbformat_minor": 2
}
