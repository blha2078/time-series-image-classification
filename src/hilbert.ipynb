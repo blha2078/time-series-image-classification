{
 "cells": [
  {
   "cell_type": "code",
   "execution_count": 1,
   "metadata": {},
   "outputs": [
    {
     "name": "stderr",
     "output_type": "stream",
     "text": [
      "2023-04-30 17:32:08.262967: I tensorflow/tsl/cuda/cudart_stub.cc:28] Could not find cuda drivers on your machine, GPU will not be used.\n",
      "2023-04-30 17:32:08.316089: I tensorflow/tsl/cuda/cudart_stub.cc:28] Could not find cuda drivers on your machine, GPU will not be used.\n",
      "2023-04-30 17:32:08.316983: I tensorflow/core/platform/cpu_feature_guard.cc:182] This TensorFlow binary is optimized to use available CPU instructions in performance-critical operations.\n",
      "To enable the following instructions: AVX2 FMA, in other operations, rebuild TensorFlow with the appropriate compiler flags.\n",
      "2023-04-30 17:32:09.641051: W tensorflow/compiler/tf2tensorrt/utils/py_utils.cc:38] TF-TRT Warning: Could not find TensorRT\n"
     ]
    }
   ],
   "source": [
    "import matplotlib\n",
    "import matplotlib.pyplot as plt\n",
    "import pandas as pd\n",
    "import numpy as np\n",
    "import tensorflow as tf\n",
    "from tensorflow import keras\n",
    "from tensorflow.keras import layers\n",
    "import sklearn.datasets\n",
    "import sklearn.model_selection\n",
    "from sklearn.preprocessing import OneHotEncoder\n",
    "\n",
    "# import mnist digits dataset\n",
    "mnist = tf.keras.datasets.mnist # Object of the MNIST dataset\n",
    "(x_train, y_train),(x_test, y_test) = mnist.load_data()"
   ]
  },
  {
   "cell_type": "code",
   "execution_count": 2,
   "metadata": {},
   "outputs": [],
   "source": [
    "# DATA TRUNCATION FOR TEST\n",
    "x_train = x_train[:100]\n",
    "y_train = y_train[:100]\n",
    "x_test = x_test[:100]\n",
    "y_test = y_test[:100]"
   ]
  },
  {
   "cell_type": "code",
   "execution_count": 3,
   "metadata": {},
   "outputs": [],
   "source": [
    "# Normalize the train dataset\n",
    "x_train = tf.keras.utils.normalize(x_train, axis=1)\n",
    "# Normalize the test dataset\n",
    "x_test = tf.keras.utils.normalize(x_test, axis=1)"
   ]
  },
  {
   "attachments": {},
   "cell_type": "markdown",
   "metadata": {},
   "source": [
    "# Hilbert Curve translation"
   ]
  },
  {
   "cell_type": "code",
   "execution_count": 4,
   "metadata": {},
   "outputs": [],
   "source": [
    "# Hilbert path generator\n",
    "# ALL CREDIT TO: https://github.com/jakubcerveny/gilbert/blob/master/gilbert2d.py\n",
    "# ALL CREDIT TO @jakubcerveny on GitHub\n",
    "\n",
    "def sgn(x):\n",
    "    return -1 if x < 0 else (1 if x > 0 else 0)\n",
    "\n",
    "def generate_path(x,y,ax,ay,bx,by):\n",
    "    w = abs(ax + ay)\n",
    "    h = abs(bx + by)\n",
    "\n",
    "    (dax, day) = (sgn(ax), sgn(ay)) # unit major direction\n",
    "    (dbx, dby) = (sgn(bx), sgn(by)) # unit orthogonal direction\n",
    "\n",
    "    if h == 1:\n",
    "        # trivial row fill\n",
    "        for i in range(0, w):\n",
    "            yield(x, y)\n",
    "            (x, y) = (x + dax, y + day)\n",
    "        return\n",
    "\n",
    "    if w == 1:\n",
    "        # trivial column fill\n",
    "        for i in range(0, h):\n",
    "            yield(x, y)\n",
    "            (x, y) = (x + dbx, y + dby)\n",
    "        return\n",
    "\n",
    "    (ax2, ay2) = (ax//2, ay//2)\n",
    "    (bx2, by2) = (bx//2, by//2)\n",
    "\n",
    "    w2 = abs(ax2 + ay2)\n",
    "    h2 = abs(bx2 + by2)\n",
    "\n",
    "    if 2*w > 3*h:\n",
    "        if (w2 % 2) and (w > 2):\n",
    "            # prefer even steps\n",
    "            (ax2, ay2) = (ax2 + dax, ay2 + day)\n",
    "\n",
    "        # long case: split in two parts only\n",
    "        yield from generate_path(x, y, ax2, ay2, bx, by)\n",
    "        yield from generate_path(x+ax2, y+ay2, ax-ax2, ay-ay2, bx, by)\n",
    "\n",
    "    else:\n",
    "        if (h2 % 2) and (h > 2):\n",
    "            # prefer even steps\n",
    "            (bx2, by2) = (bx2 + dbx, by2 + dby)\n",
    "\n",
    "        # standard case: one step up, one long horizontal, one step down\n",
    "        yield from generate_path(x, y, bx2, by2, ax2, ay2)\n",
    "        yield from generate_path(x+bx2, y+by2, ax, ay, bx-bx2, by-by2)\n",
    "        yield from generate_path(x+(ax-dax)+(bx2-dbx), y+(ay-day)+(by2-dby),\n",
    "                              -bx2, -by2, -(ax-ax2), -(ay-ay2))\n",
    "\n",
    "def hilbert_path(n):\n",
    "    yield from generate_path(0,0,n,0,0,n)\n"
   ]
  },
  {
   "cell_type": "code",
   "execution_count": 5,
   "metadata": {},
   "outputs": [],
   "source": [
    "def dim_reduction(image):\n",
    "    # Translate 2D image into 1D vector using Hilbert curve\n",
    "    # image: 2D numpy array (28x28) or (nxn)\n",
    "    # return: 1D numpy array\n",
    "    width = image.shape[0]\n",
    "    \n",
    "    # Generate Hilbert curve path\n",
    "    path = hilbert_path(width)\n",
    "    # 1D vector widthxwidth\n",
    "    vector = np.zeros(width*width)\n",
    "    # Fill vector with image values\n",
    "    for i, (x, y) in enumerate(path):\n",
    "        vector[i] = image[x][y]\n",
    "    return vector\n"
   ]
  },
  {
   "cell_type": "code",
   "execution_count": 32,
   "metadata": {},
   "outputs": [],
   "source": [
    "# # Basic test\n",
    "# print(np.array([[0,0,.25,.25],[0,0,.25,.25],[.75,.75,1,1],[.75,.75,1,1]]))\n",
    "# print(dim_reduction(np.array([[0,0,.25,.25],[0,0,.25,.25],[.75,.75,1,1],[.75,.75,1,1]])))"
   ]
  },
  {
   "attachments": {},
   "cell_type": "markdown",
   "metadata": {},
   "source": [
    "### Translating MNIST\n",
    "\n",
    "Note: This takes a long time!"
   ]
  },
  {
   "cell_type": "code",
   "execution_count": 6,
   "metadata": {},
   "outputs": [],
   "source": [
    "x_train = np.array([dim_reduction(x) for x in x_train])\n",
    "x_test = np.array([dim_reduction(x) for x in x_test])"
   ]
  },
  {
   "attachments": {},
   "cell_type": "markdown",
   "metadata": {},
   "source": [
    "### Converting to time series"
   ]
  },
  {
   "cell_type": "code",
   "execution_count": 7,
   "metadata": {},
   "outputs": [],
   "source": [
    "train_width = 28*28*x_train.shape[0]\n",
    "test_width = 28*28*x_test.shape[0]\n",
    "x_train = x_train.flatten()\n",
    "x_test = x_test.flatten()"
   ]
  },
  {
   "cell_type": "code",
   "execution_count": 8,
   "metadata": {},
   "outputs": [],
   "source": [
    "y_train = np.array([[y for _ in range(28*28)] for y in y_train]).flatten()\n",
    "y_test = np.array([[y for _ in range(28*28)] for y in y_test]).flatten()"
   ]
  },
  {
   "cell_type": "code",
   "execution_count": 9,
   "metadata": {},
   "outputs": [],
   "source": [
    "enc = OneHotEncoder(handle_unknown='ignore', sparse=False)\n",
    "\n",
    "enc = enc.fit(y_train.reshape(-1,1))\n",
    "\n",
    "y_train = enc.transform(y_train.reshape(-1,1))\n",
    "y_test = enc.transform(y_test.reshape(-1,1))"
   ]
  },
  {
   "attachments": {},
   "cell_type": "markdown",
   "metadata": {},
   "source": [
    "# Recurrent Neural Network"
   ]
  },
  {
   "attachments": {},
   "cell_type": "markdown",
   "metadata": {},
   "source": [
    "# LSTM RNN"
   ]
  },
  {
   "cell_type": "code",
   "execution_count": 10,
   "metadata": {},
   "outputs": [
    {
     "name": "stdout",
     "output_type": "stream",
     "text": [
      "(78400,)\n",
      "(78400, 1, 1)\n"
     ]
    }
   ],
   "source": [
    "print(x_train.shape)\n",
    "x_train = x_train.reshape(-1, 1, 1)\n",
    "x_test = x_test.reshape(-1, 1, 1)\n",
    "print(x_train.shape)\n"
   ]
  },
  {
   "cell_type": "code",
   "execution_count": 39,
   "metadata": {},
   "outputs": [],
   "source": [
    "model = tf.keras.models.Sequential()\n",
    "model.add(\n",
    "    keras.layers.Bidirectional(\n",
    "      keras.layers.LSTM(\n",
    "          units=128,\n",
    "          input_shape=[x_train.shape[1], x_train.shape[2]]\n",
    "          \n",
    "      )\n",
    "    )\n",
    ")\n",
    "model.add(keras.layers.Dropout(rate=0.5))\n",
    "model.add(keras.layers.Dense(units=128, activation='relu'))\n",
    "model.add(keras.layers.Dense(y_train.shape[1], activation='softmax'))\n",
    "\n",
    "model.compile(\n",
    "  loss='categorical_crossentropy',\n",
    "  optimizer='adam',\n",
    "  metrics=['acc']\n",
    ")"
   ]
  },
  {
   "cell_type": "code",
   "execution_count": 40,
   "metadata": {},
   "outputs": [
    {
     "name": "stdout",
     "output_type": "stream",
     "text": [
      "Epoch 1/20\n"
     ]
    },
    {
     "name": "stderr",
     "output_type": "stream",
     "text": [
      "2023-04-03 16:31:58.356463: I tensorflow/core/common_runtime/executor.cc:1197] [/device:CPU:0] (DEBUG INFO) Executor start aborting (this does not indicate an error and you can ignore this message): INVALID_ARGUMENT: You must feed a value for placeholder tensor 'gradients/split_2_grad/concat/split_2/split_dim' with dtype int32\n",
      "\t [[{{node gradients/split_2_grad/concat/split_2/split_dim}}]]\n",
      "2023-04-03 16:31:58.358842: I tensorflow/core/common_runtime/executor.cc:1197] [/device:CPU:0] (DEBUG INFO) Executor start aborting (this does not indicate an error and you can ignore this message): INVALID_ARGUMENT: You must feed a value for placeholder tensor 'gradients/split_grad/concat/split/split_dim' with dtype int32\n",
      "\t [[{{node gradients/split_grad/concat/split/split_dim}}]]\n",
      "2023-04-03 16:31:58.359762: I tensorflow/core/common_runtime/executor.cc:1197] [/device:CPU:0] (DEBUG INFO) Executor start aborting (this does not indicate an error and you can ignore this message): INVALID_ARGUMENT: You must feed a value for placeholder tensor 'gradients/split_1_grad/concat/split_1/split_dim' with dtype int32\n",
      "\t [[{{node gradients/split_1_grad/concat/split_1/split_dim}}]]\n",
      "2023-04-03 16:31:58.474525: I tensorflow/core/common_runtime/executor.cc:1197] [/device:CPU:0] (DEBUG INFO) Executor start aborting (this does not indicate an error and you can ignore this message): INVALID_ARGUMENT: You must feed a value for placeholder tensor 'gradients/ReverseV2_grad/ReverseV2/ReverseV2/axis' with dtype int32 and shape [1]\n",
      "\t [[{{node gradients/ReverseV2_grad/ReverseV2/ReverseV2/axis}}]]\n",
      "2023-04-03 16:31:58.514293: I tensorflow/core/common_runtime/executor.cc:1197] [/device:CPU:0] (DEBUG INFO) Executor start aborting (this does not indicate an error and you can ignore this message): INVALID_ARGUMENT: You must feed a value for placeholder tensor 'gradients/split_2_grad/concat/split_2/split_dim' with dtype int32\n",
      "\t [[{{node gradients/split_2_grad/concat/split_2/split_dim}}]]\n",
      "2023-04-03 16:31:58.515338: I tensorflow/core/common_runtime/executor.cc:1197] [/device:CPU:0] (DEBUG INFO) Executor start aborting (this does not indicate an error and you can ignore this message): INVALID_ARGUMENT: You must feed a value for placeholder tensor 'gradients/split_grad/concat/split/split_dim' with dtype int32\n",
      "\t [[{{node gradients/split_grad/concat/split/split_dim}}]]\n",
      "2023-04-03 16:31:58.516429: I tensorflow/core/common_runtime/executor.cc:1197] [/device:CPU:0] (DEBUG INFO) Executor start aborting (this does not indicate an error and you can ignore this message): INVALID_ARGUMENT: You must feed a value for placeholder tensor 'gradients/split_1_grad/concat/split_1/split_dim' with dtype int32\n",
      "\t [[{{node gradients/split_1_grad/concat/split_1/split_dim}}]]\n",
      "2023-04-03 16:31:58.732098: I tensorflow/core/common_runtime/executor.cc:1197] [/device:CPU:0] (DEBUG INFO) Executor start aborting (this does not indicate an error and you can ignore this message): INVALID_ARGUMENT: You must feed a value for placeholder tensor 'gradients/split_2_grad/concat/split_2/split_dim' with dtype int32\n",
      "\t [[{{node gradients/split_2_grad/concat/split_2/split_dim}}]]\n",
      "2023-04-03 16:31:58.738258: I tensorflow/core/common_runtime/executor.cc:1197] [/device:CPU:0] (DEBUG INFO) Executor start aborting (this does not indicate an error and you can ignore this message): INVALID_ARGUMENT: You must feed a value for placeholder tensor 'gradients/split_grad/concat/split/split_dim' with dtype int32\n",
      "\t [[{{node gradients/split_grad/concat/split/split_dim}}]]\n",
      "2023-04-03 16:31:58.740204: I tensorflow/core/common_runtime/executor.cc:1197] [/device:CPU:0] (DEBUG INFO) Executor start aborting (this does not indicate an error and you can ignore this message): INVALID_ARGUMENT: You must feed a value for placeholder tensor 'gradients/split_1_grad/concat/split_1/split_dim' with dtype int32\n",
      "\t [[{{node gradients/split_1_grad/concat/split_1/split_dim}}]]\n",
      "2023-04-03 16:31:58.869441: I tensorflow/core/common_runtime/executor.cc:1197] [/device:CPU:0] (DEBUG INFO) Executor start aborting (this does not indicate an error and you can ignore this message): INVALID_ARGUMENT: You must feed a value for placeholder tensor 'gradients/ReverseV2_grad/ReverseV2/ReverseV2/axis' with dtype int32 and shape [1]\n",
      "\t [[{{node gradients/ReverseV2_grad/ReverseV2/ReverseV2/axis}}]]\n",
      "2023-04-03 16:31:58.913096: I tensorflow/core/common_runtime/executor.cc:1197] [/device:CPU:0] (DEBUG INFO) Executor start aborting (this does not indicate an error and you can ignore this message): INVALID_ARGUMENT: You must feed a value for placeholder tensor 'gradients/split_2_grad/concat/split_2/split_dim' with dtype int32\n",
      "\t [[{{node gradients/split_2_grad/concat/split_2/split_dim}}]]\n",
      "2023-04-03 16:31:58.914864: I tensorflow/core/common_runtime/executor.cc:1197] [/device:CPU:0] (DEBUG INFO) Executor start aborting (this does not indicate an error and you can ignore this message): INVALID_ARGUMENT: You must feed a value for placeholder tensor 'gradients/split_grad/concat/split/split_dim' with dtype int32\n",
      "\t [[{{node gradients/split_grad/concat/split/split_dim}}]]\n",
      "2023-04-03 16:31:58.915985: I tensorflow/core/common_runtime/executor.cc:1197] [/device:CPU:0] (DEBUG INFO) Executor start aborting (this does not indicate an error and you can ignore this message): INVALID_ARGUMENT: You must feed a value for placeholder tensor 'gradients/split_1_grad/concat/split_1/split_dim' with dtype int32\n",
      "\t [[{{node gradients/split_1_grad/concat/split_1/split_dim}}]]\n",
      "2023-04-03 16:31:59.312252: I tensorflow/core/common_runtime/executor.cc:1197] [/device:CPU:0] (DEBUG INFO) Executor start aborting (this does not indicate an error and you can ignore this message): INVALID_ARGUMENT: You must feed a value for placeholder tensor 'gradients/ReverseV2_grad/ReverseV2/ReverseV2/axis' with dtype int32 and shape [1]\n",
      "\t [[{{node gradients/ReverseV2_grad/ReverseV2/ReverseV2/axis}}]]\n",
      "2023-04-03 16:31:59.822556: I tensorflow/core/common_runtime/executor.cc:1197] [/device:CPU:0] (DEBUG INFO) Executor start aborting (this does not indicate an error and you can ignore this message): INVALID_ARGUMENT: You must feed a value for placeholder tensor 'gradients/split_2_grad/concat/split_2/split_dim' with dtype int32\n",
      "\t [[{{node gradients/split_2_grad/concat/split_2/split_dim}}]]\n",
      "2023-04-03 16:31:59.824902: I tensorflow/core/common_runtime/executor.cc:1197] [/device:CPU:0] (DEBUG INFO) Executor start aborting (this does not indicate an error and you can ignore this message): INVALID_ARGUMENT: You must feed a value for placeholder tensor 'gradients/split_grad/concat/split/split_dim' with dtype int32\n",
      "\t [[{{node gradients/split_grad/concat/split/split_dim}}]]\n",
      "2023-04-03 16:31:59.826966: I tensorflow/core/common_runtime/executor.cc:1197] [/device:CPU:0] (DEBUG INFO) Executor start aborting (this does not indicate an error and you can ignore this message): INVALID_ARGUMENT: You must feed a value for placeholder tensor 'gradients/split_1_grad/concat/split_1/split_dim' with dtype int32\n",
      "\t [[{{node gradients/split_1_grad/concat/split_1/split_dim}}]]\n",
      "2023-04-03 16:31:59.954046: I tensorflow/core/common_runtime/executor.cc:1197] [/device:CPU:0] (DEBUG INFO) Executor start aborting (this does not indicate an error and you can ignore this message): INVALID_ARGUMENT: You must feed a value for placeholder tensor 'gradients/ReverseV2_grad/ReverseV2/ReverseV2/axis' with dtype int32 and shape [1]\n",
      "\t [[{{node gradients/ReverseV2_grad/ReverseV2/ReverseV2/axis}}]]\n",
      "2023-04-03 16:31:59.999532: I tensorflow/core/common_runtime/executor.cc:1197] [/device:CPU:0] (DEBUG INFO) Executor start aborting (this does not indicate an error and you can ignore this message): INVALID_ARGUMENT: You must feed a value for placeholder tensor 'gradients/split_2_grad/concat/split_2/split_dim' with dtype int32\n",
      "\t [[{{node gradients/split_2_grad/concat/split_2/split_dim}}]]\n",
      "2023-04-03 16:32:00.001901: I tensorflow/core/common_runtime/executor.cc:1197] [/device:CPU:0] (DEBUG INFO) Executor start aborting (this does not indicate an error and you can ignore this message): INVALID_ARGUMENT: You must feed a value for placeholder tensor 'gradients/split_grad/concat/split/split_dim' with dtype int32\n",
      "\t [[{{node gradients/split_grad/concat/split/split_dim}}]]\n",
      "2023-04-03 16:32:00.003970: I tensorflow/core/common_runtime/executor.cc:1197] [/device:CPU:0] (DEBUG INFO) Executor start aborting (this does not indicate an error and you can ignore this message): INVALID_ARGUMENT: You must feed a value for placeholder tensor 'gradients/split_1_grad/concat/split_1/split_dim' with dtype int32\n",
      "\t [[{{node gradients/split_1_grad/concat/split_1/split_dim}}]]\n",
      "2023-04-03 16:32:00.327891: I tensorflow/core/common_runtime/executor.cc:1197] [/device:CPU:0] (DEBUG INFO) Executor start aborting (this does not indicate an error and you can ignore this message): INVALID_ARGUMENT: You must feed a value for placeholder tensor 'gradients/ReverseV2_grad/ReverseV2/ReverseV2/axis' with dtype int32 and shape [1]\n",
      "\t [[{{node gradients/ReverseV2_grad/ReverseV2/ReverseV2/axis}}]]\n"
     ]
    },
    {
     "name": "stdout",
     "output_type": "stream",
     "text": [
      "2199/2205 [============================>.] - ETA: 0s - loss: 2.2275 - acc: 0.1954"
     ]
    },
    {
     "name": "stderr",
     "output_type": "stream",
     "text": [
      "2023-04-03 16:32:11.957470: I tensorflow/core/common_runtime/executor.cc:1197] [/device:CPU:0] (DEBUG INFO) Executor start aborting (this does not indicate an error and you can ignore this message): INVALID_ARGUMENT: You must feed a value for placeholder tensor 'gradients/split_2_grad/concat/split_2/split_dim' with dtype int32\n",
      "\t [[{{node gradients/split_2_grad/concat/split_2/split_dim}}]]\n",
      "2023-04-03 16:32:11.960009: I tensorflow/core/common_runtime/executor.cc:1197] [/device:CPU:0] (DEBUG INFO) Executor start aborting (this does not indicate an error and you can ignore this message): INVALID_ARGUMENT: You must feed a value for placeholder tensor 'gradients/split_grad/concat/split/split_dim' with dtype int32\n",
      "\t [[{{node gradients/split_grad/concat/split/split_dim}}]]\n",
      "2023-04-03 16:32:11.961348: I tensorflow/core/common_runtime/executor.cc:1197] [/device:CPU:0] (DEBUG INFO) Executor start aborting (this does not indicate an error and you can ignore this message): INVALID_ARGUMENT: You must feed a value for placeholder tensor 'gradients/split_1_grad/concat/split_1/split_dim' with dtype int32\n",
      "\t [[{{node gradients/split_1_grad/concat/split_1/split_dim}}]]\n",
      "2023-04-03 16:32:12.075913: I tensorflow/core/common_runtime/executor.cc:1197] [/device:CPU:0] (DEBUG INFO) Executor start aborting (this does not indicate an error and you can ignore this message): INVALID_ARGUMENT: You must feed a value for placeholder tensor 'gradients/ReverseV2_grad/ReverseV2/ReverseV2/axis' with dtype int32 and shape [1]\n",
      "\t [[{{node gradients/ReverseV2_grad/ReverseV2/ReverseV2/axis}}]]\n",
      "2023-04-03 16:32:12.114410: I tensorflow/core/common_runtime/executor.cc:1197] [/device:CPU:0] (DEBUG INFO) Executor start aborting (this does not indicate an error and you can ignore this message): INVALID_ARGUMENT: You must feed a value for placeholder tensor 'gradients/split_2_grad/concat/split_2/split_dim' with dtype int32\n",
      "\t [[{{node gradients/split_2_grad/concat/split_2/split_dim}}]]\n",
      "2023-04-03 16:32:12.115689: I tensorflow/core/common_runtime/executor.cc:1197] [/device:CPU:0] (DEBUG INFO) Executor start aborting (this does not indicate an error and you can ignore this message): INVALID_ARGUMENT: You must feed a value for placeholder tensor 'gradients/split_grad/concat/split/split_dim' with dtype int32\n",
      "\t [[{{node gradients/split_grad/concat/split/split_dim}}]]\n",
      "2023-04-03 16:32:12.116956: I tensorflow/core/common_runtime/executor.cc:1197] [/device:CPU:0] (DEBUG INFO) Executor start aborting (this does not indicate an error and you can ignore this message): INVALID_ARGUMENT: You must feed a value for placeholder tensor 'gradients/split_1_grad/concat/split_1/split_dim' with dtype int32\n",
      "\t [[{{node gradients/split_1_grad/concat/split_1/split_dim}}]]\n"
     ]
    },
    {
     "name": "stdout",
     "output_type": "stream",
     "text": [
      "2205/2205 [==============================] - 15s 5ms/step - loss: 2.2281 - acc: 0.1949 - val_loss: 2.3360 - val_acc: 0.0000e+00\n",
      "Epoch 2/20\n",
      "2205/2205 [==============================] - 11s 5ms/step - loss: 2.2501 - acc: 0.1960 - val_loss: 2.3776 - val_acc: 0.1000\n",
      "Epoch 3/20\n",
      "2205/2205 [==============================] - 11s 5ms/step - loss: 2.2006 - acc: 0.2167 - val_loss: 2.5055 - val_acc: 0.0000e+00\n",
      "Epoch 4/20\n",
      "2205/2205 [==============================] - 11s 5ms/step - loss: 2.2016 - acc: 0.1811 - val_loss: 2.4731 - val_acc: 0.1000\n",
      "Epoch 5/20\n",
      "2205/2205 [==============================] - 13s 6ms/step - loss: 2.2512 - acc: 0.1533 - val_loss: 2.3723 - val_acc: 0.1000\n",
      "Epoch 6/20\n",
      "2205/2205 [==============================] - 10s 5ms/step - loss: 2.1914 - acc: 0.2015 - val_loss: 2.4653 - val_acc: 0.1000\n",
      "Epoch 7/20\n",
      "2205/2205 [==============================] - 11s 5ms/step - loss: 2.1879 - acc: 0.1860 - val_loss: 2.4169 - val_acc: 0.0000e+00\n",
      "Epoch 8/20\n",
      "2205/2205 [==============================] - 12s 5ms/step - loss: 2.2375 - acc: 0.1301 - val_loss: 2.3909 - val_acc: 0.1000\n",
      "Epoch 9/20\n",
      "2205/2205 [==============================] - 11s 5ms/step - loss: 2.2462 - acc: 0.1595 - val_loss: 2.3916 - val_acc: 0.1000\n",
      "Epoch 10/20\n",
      "2205/2205 [==============================] - 11s 5ms/step - loss: 2.2528 - acc: 0.1425 - val_loss: 2.4180 - val_acc: 0.1000\n",
      "Epoch 11/20\n",
      "2205/2205 [==============================] - 9s 4ms/step - loss: 2.2322 - acc: 0.1734 - val_loss: 2.4119 - val_acc: 0.1000\n",
      "Epoch 12/20\n",
      "2205/2205 [==============================] - 12s 5ms/step - loss: 2.2346 - acc: 0.1703 - val_loss: 2.4161 - val_acc: 0.1000\n",
      "Epoch 13/20\n",
      "2205/2205 [==============================] - 12s 5ms/step - loss: 2.2537 - acc: 0.1583 - val_loss: 2.3760 - val_acc: 0.1000\n",
      "Epoch 14/20\n",
      "2205/2205 [==============================] - 10s 5ms/step - loss: 2.2411 - acc: 0.1838 - val_loss: 2.2935 - val_acc: 0.1000\n",
      "Epoch 15/20\n",
      "2205/2205 [==============================] - 11s 5ms/step - loss: 2.2587 - acc: 0.1701 - val_loss: 2.3145 - val_acc: 0.1000\n",
      "Epoch 16/20\n",
      "2205/2205 [==============================] - 12s 5ms/step - loss: 2.2536 - acc: 0.1507 - val_loss: 2.3254 - val_acc: 0.1000\n",
      "Epoch 17/20\n",
      "2205/2205 [==============================] - 12s 5ms/step - loss: 2.2709 - acc: 0.1374 - val_loss: 2.3212 - val_acc: 0.1000\n",
      "Epoch 18/20\n",
      "2205/2205 [==============================] - 11s 5ms/step - loss: 2.2685 - acc: 0.1335 - val_loss: 2.2947 - val_acc: 0.1000\n",
      "Epoch 19/20\n",
      "2205/2205 [==============================] - 11s 5ms/step - loss: 2.2614 - acc: 0.1361 - val_loss: 2.2786 - val_acc: 0.0221\n",
      "Epoch 20/20\n",
      "2205/2205 [==============================] - 12s 5ms/step - loss: 2.2918 - acc: 0.1221 - val_loss: 2.2891 - val_acc: 0.1000\n"
     ]
    }
   ],
   "source": [
    "history = model.fit(\n",
    "    x_train, y_train,\n",
    "    epochs=20,\n",
    "    batch_size=32,\n",
    "    validation_split=0.1,\n",
    "    shuffle=False\n",
    ")"
   ]
  }
 ],
 "metadata": {
  "kernelspec": {
   "display_name": "base",
   "language": "python",
   "name": "python3"
  },
  "language_info": {
   "codemirror_mode": {
    "name": "ipython",
    "version": 3
   },
   "file_extension": ".py",
   "mimetype": "text/x-python",
   "name": "python",
   "nbconvert_exporter": "python",
   "pygments_lexer": "ipython3",
   "version": "3.9.13"
  },
  "orig_nbformat": 4,
  "vscode": {
   "interpreter": {
    "hash": "93986647664ea508ac635b1ed93d9c84b7e747e90f968af4a5ecab2c6c248f83"
   }
  }
 },
 "nbformat": 4,
 "nbformat_minor": 2
}
