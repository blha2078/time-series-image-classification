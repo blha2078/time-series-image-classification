{
 "cells": [
  {
   "cell_type": "code",
   "execution_count": 2,
   "metadata": {},
   "outputs": [
    {
     "name": "stderr",
     "output_type": "stream",
     "text": [
      "2023-05-04 12:54:37.274867: I tensorflow/tsl/cuda/cudart_stub.cc:28] Could not find cuda drivers on your machine, GPU will not be used.\n",
      "2023-05-04 12:54:37.319497: I tensorflow/tsl/cuda/cudart_stub.cc:28] Could not find cuda drivers on your machine, GPU will not be used.\n",
      "2023-05-04 12:54:37.320557: I tensorflow/core/platform/cpu_feature_guard.cc:182] This TensorFlow binary is optimized to use available CPU instructions in performance-critical operations.\n",
      "To enable the following instructions: AVX2 FMA, in other operations, rebuild TensorFlow with the appropriate compiler flags.\n",
      "2023-05-04 12:54:38.149727: W tensorflow/compiler/tf2tensorrt/utils/py_utils.cc:38] TF-TRT Warning: Could not find TensorRT\n"
     ]
    }
   ],
   "source": [
    "import matplotlib\n",
    "import matplotlib.pyplot as plt\n",
    "import pandas as pd\n",
    "import numpy as np\n",
    "import tensorflow as tf\n",
    "from tensorflow import keras\n",
    "from tensorflow.keras import layers\n",
    "import sklearn.datasets\n",
    "import sklearn.model_selection\n",
    "from sklearn.preprocessing import OneHotEncoder\n",
    "\n",
    "# import mnist digits dataset\n",
    "mnist = tf.keras.datasets.mnist # Object of the MNIST dataset\n",
    "(x_train, y_train),(x_test, y_test) = mnist.load_data()"
   ]
  },
  {
   "cell_type": "code",
   "execution_count": 8,
   "metadata": {},
   "outputs": [],
   "source": [
    "# # DATA TRUNCATION FOR TEST\n",
    "# x_train = x_train[:100]\n",
    "# y_train = y_train[:100]\n",
    "# x_test = x_test[:100]\n",
    "# y_test = y_test[:100]"
   ]
  },
  {
   "cell_type": "code",
   "execution_count": 3,
   "metadata": {},
   "outputs": [],
   "source": [
    "# Normalize the train dataset\n",
    "x_train = tf.keras.utils.normalize(x_train, axis=1)\n",
    "# Normalize the test dataset\n",
    "x_test = tf.keras.utils.normalize(x_test, axis=1)\n",
    "\n"
   ]
  },
  {
   "attachments": {},
   "cell_type": "markdown",
   "metadata": {},
   "source": [
    "# Hilbert Curve translation"
   ]
  },
  {
   "cell_type": "code",
   "execution_count": 4,
   "metadata": {},
   "outputs": [],
   "source": [
    "# Hilbert path generator\n",
    "# ALL CREDIT TO: https://github.com/jakubcerveny/gilbert/blob/master/gilbert2d.py\n",
    "# ALL CREDIT TO @jakubcerveny on GitHub\n",
    "\n",
    "def sgn(x):\n",
    "    return -1 if x < 0 else (1 if x > 0 else 0)\n",
    "\n",
    "def generate_path(x,y,ax,ay,bx,by):\n",
    "    w = abs(ax + ay)\n",
    "    h = abs(bx + by)\n",
    "\n",
    "    (dax, day) = (sgn(ax), sgn(ay)) # unit major direction\n",
    "    (dbx, dby) = (sgn(bx), sgn(by)) # unit orthogonal direction\n",
    "\n",
    "    if h == 1:\n",
    "        # trivial row fill\n",
    "        for i in range(0, w):\n",
    "            yield(x, y)\n",
    "            (x, y) = (x + dax, y + day)\n",
    "        return\n",
    "\n",
    "    if w == 1:\n",
    "        # trivial column fill\n",
    "        for i in range(0, h):\n",
    "            yield(x, y)\n",
    "            (x, y) = (x + dbx, y + dby)\n",
    "        return\n",
    "\n",
    "    (ax2, ay2) = (ax//2, ay//2)\n",
    "    (bx2, by2) = (bx//2, by//2)\n",
    "\n",
    "    w2 = abs(ax2 + ay2)\n",
    "    h2 = abs(bx2 + by2)\n",
    "\n",
    "    if 2*w > 3*h:\n",
    "        if (w2 % 2) and (w > 2):\n",
    "            # prefer even steps\n",
    "            (ax2, ay2) = (ax2 + dax, ay2 + day)\n",
    "\n",
    "        # long case: split in two parts only\n",
    "        yield from generate_path(x, y, ax2, ay2, bx, by)\n",
    "        yield from generate_path(x+ax2, y+ay2, ax-ax2, ay-ay2, bx, by)\n",
    "\n",
    "    else:\n",
    "        if (h2 % 2) and (h > 2):\n",
    "            # prefer even steps\n",
    "            (bx2, by2) = (bx2 + dbx, by2 + dby)\n",
    "\n",
    "        # standard case: one step up, one long horizontal, one step down\n",
    "        yield from generate_path(x, y, bx2, by2, ax2, ay2)\n",
    "        yield from generate_path(x+bx2, y+by2, ax, ay, bx-bx2, by-by2)\n",
    "        yield from generate_path(x+(ax-dax)+(bx2-dbx), y+(ay-day)+(by2-dby),\n",
    "                              -bx2, -by2, -(ax-ax2), -(ay-ay2))\n",
    "\n",
    "def hilbert_path(n):\n",
    "    yield from generate_path(0,0,n,0,0,n)\n"
   ]
  },
  {
   "cell_type": "code",
   "execution_count": 5,
   "metadata": {},
   "outputs": [],
   "source": [
    "def dim_reduction(image):\n",
    "    # Translate 2D image into 1D vector using Hilbert curve\n",
    "    # image: 2D numpy array (28x28) or (nxn)\n",
    "    # return: 1D numpy array\n",
    "    width = image.shape[0]\n",
    "    \n",
    "    # Generate Hilbert curve path\n",
    "    path = hilbert_path(width)\n",
    "    # 1D vector widthxwidth\n",
    "    vector = np.zeros(width*width)\n",
    "    # Fill vector with image values\n",
    "    for i, (x, y) in enumerate(path):\n",
    "        vector[i] = image[x][y]\n",
    "    return vector\n"
   ]
  },
  {
   "cell_type": "code",
   "execution_count": 6,
   "metadata": {},
   "outputs": [],
   "source": [
    "# Reduce 28x28 images to 14x14 images by averaging pixel values in 2x2 blocks\n",
    "def windowed_reduction(image):\n",
    "    # image: 2D numpy array (28x28) or (nxn)\n",
    "    # return: 2D numpy array (14x14)\n",
    "    width = image.shape[0]\n",
    "    # 2D array 14x14\n",
    "    reduced = np.zeros((width//2, width//2))\n",
    "    # Fill reduced with averages of 2x2 blocks\n",
    "    for i in range(0, width, 2):\n",
    "        for j in range(0, width, 2):\n",
    "            reduced[i//2][j//2] = (image[i][j] + image[i+1][j] + image[i][j+1] + image[i+1][j+1]) / 4\n",
    "    return reduced\n",
    "\n",
    "# display first image in dataset\n",
    "# plt.imshow(x_train[0], cmap=plt.cm.binary)\n",
    "\n",
    "x_train = np.array([windowed_reduction(image) for image in x_train])\n",
    "x_test = np.array([windowed_reduction(image) for image in x_test])\n",
    "\n",
    "# plt.imshow(x_train[0], cmap=plt.cm.binary)"
   ]
  },
  {
   "attachments": {},
   "cell_type": "markdown",
   "metadata": {},
   "source": [
    "### Translating MNIST\n",
    "\n",
    "Note: This takes a long time!"
   ]
  },
  {
   "cell_type": "code",
   "execution_count": 7,
   "metadata": {},
   "outputs": [],
   "source": [
    "x_train = np.array([dim_reduction(x) for x in x_train])\n",
    "x_test = np.array([dim_reduction(x) for x in x_test])\n",
    "\n",
    "\n"
   ]
  },
  {
   "cell_type": "code",
   "execution_count": 8,
   "metadata": {},
   "outputs": [
    {
     "name": "stdout",
     "output_type": "stream",
     "text": [
      "(60000, 196) (10000, 196)\n",
      "(60000,) (10000,)\n"
     ]
    }
   ],
   "source": [
    "print(x_train.shape, x_test.shape)\n",
    "print(y_train.shape, y_test.shape)"
   ]
  },
  {
   "cell_type": "code",
   "execution_count": 14,
   "metadata": {},
   "outputs": [
    {
     "name": "stdout",
     "output_type": "stream",
     "text": [
      "(60000, 196)\n"
     ]
    }
   ],
   "source": [
    "print(x_train.shape)\n",
    "\n",
    "y_train = np.array(y_train)\n",
    "y_test = np.array(y_test)\n",
    "\n",
    "# One-hot encode labels\n",
    "enc = OneHotEncoder()\n",
    "y_train = enc.fit_transform(y_train.reshape(-1,1)).toarray()\n",
    "y_test = enc.fit_transform(y_test.reshape(-1,1)).toarray()"
   ]
  },
  {
   "attachments": {},
   "cell_type": "markdown",
   "metadata": {},
   "source": [
    "# Recurrent Neural Network"
   ]
  },
  {
   "attachments": {},
   "cell_type": "markdown",
   "metadata": {},
   "source": [
    "Problems w/ time series classification:\n",
    "- LSTM RNN Just takes windows of data and does recognition based off of that\n",
    "- Taking a sufficiently long window is literally just taking a snapshot of the image and running it thru RNN instead of CNN\n",
    "- wtf bro lmao."
   ]
  },
  {
   "cell_type": "code",
   "execution_count": 17,
   "metadata": {},
   "outputs": [
    {
     "name": "stderr",
     "output_type": "stream",
     "text": [
      "2023-05-03 21:15:56.679930: I tensorflow/core/common_runtime/executor.cc:1197] [/device:CPU:0] (DEBUG INFO) Executor start aborting (this does not indicate an error and you can ignore this message): INVALID_ARGUMENT: You must feed a value for placeholder tensor 'gradients/split_2_grad/concat/split_2/split_dim' with dtype int32\n",
      "\t [[{{node gradients/split_2_grad/concat/split_2/split_dim}}]]\n",
      "2023-05-03 21:15:56.681470: I tensorflow/core/common_runtime/executor.cc:1197] [/device:CPU:0] (DEBUG INFO) Executor start aborting (this does not indicate an error and you can ignore this message): INVALID_ARGUMENT: You must feed a value for placeholder tensor 'gradients/split_grad/concat/split/split_dim' with dtype int32\n",
      "\t [[{{node gradients/split_grad/concat/split/split_dim}}]]\n",
      "2023-05-03 21:15:56.682607: I tensorflow/core/common_runtime/executor.cc:1197] [/device:CPU:0] (DEBUG INFO) Executor start aborting (this does not indicate an error and you can ignore this message): INVALID_ARGUMENT: You must feed a value for placeholder tensor 'gradients/split_1_grad/concat/split_1/split_dim' with dtype int32\n",
      "\t [[{{node gradients/split_1_grad/concat/split_1/split_dim}}]]\n"
     ]
    }
   ],
   "source": [
    "model = tf.keras.models.Sequential()\n",
    "model.add(\n",
    "    # keras.layers.Bidirectional(\n",
    "      # keras.layers.SimpleRNN(\n",
    "      #     units=128,\n",
    "      #     input_shape=[x_train.shape[1], 1]\n",
    "      # )\n",
    "      keras.layers.LSTM(\n",
    "          units=128,\n",
    "          input_shape=[x_train.shape[1], 1]\n",
    "      )\n",
    "    # )\n",
    ")\n",
    "model.add(keras.layers.Dropout(rate=0.5))\n",
    "model.add(keras.layers.Dense(units=128, activation='relu'))\n",
    "model.add(keras.layers.Dense(y_train.shape[1], activation='softmax'))\n",
    "\n",
    "model.compile(\n",
    "  loss='categorical_crossentropy',\n",
    "  optimizer='adam',\n",
    "  metrics=['acc']\n",
    ")"
   ]
  },
  {
   "cell_type": "code",
   "execution_count": 18,
   "metadata": {},
   "outputs": [
    {
     "name": "stdout",
     "output_type": "stream",
     "text": [
      "Epoch 1/20\n"
     ]
    },
    {
     "name": "stderr",
     "output_type": "stream",
     "text": [
      "2023-05-03 21:16:00.997295: I tensorflow/core/common_runtime/executor.cc:1197] [/device:CPU:0] (DEBUG INFO) Executor start aborting (this does not indicate an error and you can ignore this message): INVALID_ARGUMENT: You must feed a value for placeholder tensor 'gradients/split_2_grad/concat/split_2/split_dim' with dtype int32\n",
      "\t [[{{node gradients/split_2_grad/concat/split_2/split_dim}}]]\n",
      "2023-05-03 21:16:00.999019: I tensorflow/core/common_runtime/executor.cc:1197] [/device:CPU:0] (DEBUG INFO) Executor start aborting (this does not indicate an error and you can ignore this message): INVALID_ARGUMENT: You must feed a value for placeholder tensor 'gradients/split_grad/concat/split/split_dim' with dtype int32\n",
      "\t [[{{node gradients/split_grad/concat/split/split_dim}}]]\n",
      "2023-05-03 21:16:01.001919: I tensorflow/core/common_runtime/executor.cc:1197] [/device:CPU:0] (DEBUG INFO) Executor start aborting (this does not indicate an error and you can ignore this message): INVALID_ARGUMENT: You must feed a value for placeholder tensor 'gradients/split_1_grad/concat/split_1/split_dim' with dtype int32\n",
      "\t [[{{node gradients/split_1_grad/concat/split_1/split_dim}}]]\n",
      "2023-05-03 21:16:01.504530: I tensorflow/core/common_runtime/executor.cc:1197] [/device:CPU:0] (DEBUG INFO) Executor start aborting (this does not indicate an error and you can ignore this message): INVALID_ARGUMENT: You must feed a value for placeholder tensor 'gradients/split_2_grad/concat/split_2/split_dim' with dtype int32\n",
      "\t [[{{node gradients/split_2_grad/concat/split_2/split_dim}}]]\n",
      "2023-05-03 21:16:01.506413: I tensorflow/core/common_runtime/executor.cc:1197] [/device:CPU:0] (DEBUG INFO) Executor start aborting (this does not indicate an error and you can ignore this message): INVALID_ARGUMENT: You must feed a value for placeholder tensor 'gradients/split_grad/concat/split/split_dim' with dtype int32\n",
      "\t [[{{node gradients/split_grad/concat/split/split_dim}}]]\n",
      "2023-05-03 21:16:01.507787: I tensorflow/core/common_runtime/executor.cc:1197] [/device:CPU:0] (DEBUG INFO) Executor start aborting (this does not indicate an error and you can ignore this message): INVALID_ARGUMENT: You must feed a value for placeholder tensor 'gradients/split_1_grad/concat/split_1/split_dim' with dtype int32\n",
      "\t [[{{node gradients/split_1_grad/concat/split_1/split_dim}}]]\n"
     ]
    },
    {
     "name": "stdout",
     "output_type": "stream",
     "text": [
      "1688/1688 [==============================] - ETA: 0s - loss: 1.6517 - acc: 0.4104"
     ]
    },
    {
     "name": "stderr",
     "output_type": "stream",
     "text": [
      "2023-05-03 21:18:52.221509: I tensorflow/core/common_runtime/executor.cc:1197] [/device:CPU:0] (DEBUG INFO) Executor start aborting (this does not indicate an error and you can ignore this message): INVALID_ARGUMENT: You must feed a value for placeholder tensor 'gradients/split_2_grad/concat/split_2/split_dim' with dtype int32\n",
      "\t [[{{node gradients/split_2_grad/concat/split_2/split_dim}}]]\n",
      "2023-05-03 21:18:52.223109: I tensorflow/core/common_runtime/executor.cc:1197] [/device:CPU:0] (DEBUG INFO) Executor start aborting (this does not indicate an error and you can ignore this message): INVALID_ARGUMENT: You must feed a value for placeholder tensor 'gradients/split_grad/concat/split/split_dim' with dtype int32\n",
      "\t [[{{node gradients/split_grad/concat/split/split_dim}}]]\n",
      "2023-05-03 21:18:52.225300: I tensorflow/core/common_runtime/executor.cc:1197] [/device:CPU:0] (DEBUG INFO) Executor start aborting (this does not indicate an error and you can ignore this message): INVALID_ARGUMENT: You must feed a value for placeholder tensor 'gradients/split_1_grad/concat/split_1/split_dim' with dtype int32\n",
      "\t [[{{node gradients/split_1_grad/concat/split_1/split_dim}}]]\n"
     ]
    },
    {
     "name": "stdout",
     "output_type": "stream",
     "text": [
      "1688/1688 [==============================] - 178s 105ms/step - loss: 1.6517 - acc: 0.4104 - val_loss: 1.3802 - val_acc: 0.5003\n",
      "Epoch 2/20\n",
      "1688/1688 [==============================] - 185s 109ms/step - loss: 1.2402 - acc: 0.5739 - val_loss: 1.0886 - val_acc: 0.6260\n",
      "Epoch 3/20\n",
      "1688/1688 [==============================] - 176s 104ms/step - loss: 1.0818 - acc: 0.6296 - val_loss: 0.9117 - val_acc: 0.6855\n",
      "Epoch 4/20\n",
      "1688/1688 [==============================] - 176s 104ms/step - loss: 0.9117 - acc: 0.6969 - val_loss: 0.7057 - val_acc: 0.7718\n",
      "Epoch 5/20\n",
      "1688/1688 [==============================] - 181s 107ms/step - loss: 0.7537 - acc: 0.7571 - val_loss: 0.4937 - val_acc: 0.8367\n",
      "Epoch 6/20\n",
      "1688/1688 [==============================] - 180s 107ms/step - loss: 0.6193 - acc: 0.8045 - val_loss: 0.4892 - val_acc: 0.8482\n",
      "Epoch 7/20\n",
      "1688/1688 [==============================] - 197s 117ms/step - loss: 0.5394 - acc: 0.8316 - val_loss: 0.3923 - val_acc: 0.8753\n",
      "Epoch 8/20\n",
      "1688/1688 [==============================] - 190s 113ms/step - loss: 0.4789 - acc: 0.8527 - val_loss: 0.3494 - val_acc: 0.8968\n",
      "Epoch 9/20\n",
      "1688/1688 [==============================] - 184s 109ms/step - loss: 0.4341 - acc: 0.8666 - val_loss: 0.3098 - val_acc: 0.9063\n",
      "Epoch 10/20\n",
      "1688/1688 [==============================] - 185s 110ms/step - loss: 0.4008 - acc: 0.8770 - val_loss: 0.2929 - val_acc: 0.9105\n",
      "Epoch 11/20\n",
      "1688/1688 [==============================] - 183s 108ms/step - loss: 0.3755 - acc: 0.8860 - val_loss: 0.2891 - val_acc: 0.9090\n",
      "Epoch 12/20\n",
      "1688/1688 [==============================] - 182s 108ms/step - loss: 0.3511 - acc: 0.8932 - val_loss: 0.2683 - val_acc: 0.9165\n",
      "Epoch 13/20\n",
      "1688/1688 [==============================] - 184s 109ms/step - loss: 0.3343 - acc: 0.8980 - val_loss: 0.2567 - val_acc: 0.9177\n",
      "Epoch 14/20\n",
      "1688/1688 [==============================] - 182s 108ms/step - loss: 0.3146 - acc: 0.9055 - val_loss: 0.2331 - val_acc: 0.9238\n",
      "Epoch 15/20\n",
      "1688/1688 [==============================] - 181s 107ms/step - loss: 0.2942 - acc: 0.9106 - val_loss: 0.2363 - val_acc: 0.9260\n",
      "Epoch 16/20\n",
      "1688/1688 [==============================] - 185s 109ms/step - loss: 0.2780 - acc: 0.9153 - val_loss: 0.2266 - val_acc: 0.9315\n",
      "Epoch 17/20\n",
      "1688/1688 [==============================] - 188s 111ms/step - loss: 0.2659 - acc: 0.9198 - val_loss: 0.2080 - val_acc: 0.9343\n",
      "Epoch 18/20\n",
      "1688/1688 [==============================] - 190s 112ms/step - loss: 0.2532 - acc: 0.9229 - val_loss: 0.3652 - val_acc: 0.8763\n",
      "Epoch 19/20\n",
      "1688/1688 [==============================] - 187s 111ms/step - loss: 0.2352 - acc: 0.9292 - val_loss: 0.2017 - val_acc: 0.9360\n",
      "Epoch 20/20\n",
      "1688/1688 [==============================] - 180s 107ms/step - loss: 0.2329 - acc: 0.9294 - val_loss: 0.2402 - val_acc: 0.9262\n"
     ]
    }
   ],
   "source": [
    "history = model.fit(\n",
    "    x_train, y_train,\n",
    "    epochs=20,\n",
    "    batch_size=32,\n",
    "    validation_split=0.1,\n",
    "    shuffle=False\n",
    ")"
   ]
  },
  {
   "cell_type": "code",
   "execution_count": 1,
   "metadata": {},
   "outputs": [
    {
     "ename": "NameError",
     "evalue": "name 'model' is not defined",
     "output_type": "error",
     "traceback": [
      "\u001b[0;31m---------------------------------------------------------------------------\u001b[0m",
      "\u001b[0;31mNameError\u001b[0m                                 Traceback (most recent call last)",
      "\u001b[0;32m/tmp/ipykernel_658157/1210402894.py\u001b[0m in \u001b[0;36m<module>\u001b[0;34m\u001b[0m\n\u001b[1;32m      1\u001b[0m \u001b[0;31m# test on testing set\u001b[0m\u001b[0;34m\u001b[0m\u001b[0;34m\u001b[0m\u001b[0m\n\u001b[1;32m      2\u001b[0m \u001b[0;34m\u001b[0m\u001b[0m\n\u001b[0;32m----> 3\u001b[0;31m \u001b[0mtest_loss\u001b[0m\u001b[0;34m,\u001b[0m \u001b[0mtest_acc\u001b[0m \u001b[0;34m=\u001b[0m \u001b[0mmodel\u001b[0m\u001b[0;34m.\u001b[0m\u001b[0mevaluate\u001b[0m\u001b[0;34m(\u001b[0m\u001b[0mx_test\u001b[0m\u001b[0;34m,\u001b[0m \u001b[0my_test\u001b[0m\u001b[0;34m)\u001b[0m\u001b[0;34m\u001b[0m\u001b[0;34m\u001b[0m\u001b[0m\n\u001b[0m\u001b[1;32m      4\u001b[0m \u001b[0;36m9\u001b[0m\u001b[0;34m\u001b[0m\u001b[0;34m\u001b[0m\u001b[0m\n\u001b[1;32m      5\u001b[0m \u001b[0mprint\u001b[0m\u001b[0;34m(\u001b[0m\u001b[0;34m'Test accuracy:'\u001b[0m\u001b[0;34m,\u001b[0m \u001b[0mtest_acc\u001b[0m\u001b[0;34m)\u001b[0m\u001b[0;34m\u001b[0m\u001b[0;34m\u001b[0m\u001b[0m\n",
      "\u001b[0;31mNameError\u001b[0m: name 'model' is not defined"
     ]
    }
   ],
   "source": [
    "# test on testing set\n",
    "\n",
    "test_loss, test_acc = model.evaluate(x_test, y_test)\n",
    "9\n",
    "print('Test accuracy:', test_acc)\n",
    "print('Test loss:', test_loss)\n",
    "\n",
    "history_dict = history.history\n",
    "\n",
    "acc = history_dict['acc']\n",
    "val_acc = history_dict['val_acc']\n",
    "loss = history_dict['loss']\n",
    "val_loss = history_dict['val_loss']\n",
    "\n",
    "# plot acc, val_acc\n",
    "epochs = range(1, len(acc) + 1)\n",
    "\n",
    "plt.plot(epochs, acc, 'bo', label='Training acc')\n",
    "plt.plot(epochs, val_acc, 'b', color='red', label='Validation acc')\n",
    "plt.title('Training and validation accuracy')\n",
    "plt.xlabel('Epochs')\n",
    "plt.ylabel('Accuracy')\n",
    "plt.legend()\n"
   ]
  },
  {
   "cell_type": "code",
   "execution_count": null,
   "metadata": {},
   "outputs": [],
   "source": []
  }
 ],
 "metadata": {
  "kernelspec": {
   "display_name": "base",
   "language": "python",
   "name": "python3"
  },
  "language_info": {
   "codemirror_mode": {
    "name": "ipython",
    "version": 3
   },
   "file_extension": ".py",
   "mimetype": "text/x-python",
   "name": "python",
   "nbconvert_exporter": "python",
   "pygments_lexer": "ipython3",
   "version": "3.9.13"
  },
  "orig_nbformat": 4,
  "vscode": {
   "interpreter": {
    "hash": "93986647664ea508ac635b1ed93d9c84b7e747e90f968af4a5ecab2c6c248f83"
   }
  }
 },
 "nbformat": 4,
 "nbformat_minor": 2
}
