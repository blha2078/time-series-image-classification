{
 "cells": [
  {
   "cell_type": "code",
   "execution_count": 8,
   "metadata": {},
   "outputs": [],
   "source": [
    "import matplotlib\n",
    "import matplotlib.pyplot as plt\n",
    "import pandas as pd\n",
    "import numpy as np\n",
    "import tensorflow as tf\n",
    "from tensorflow import keras\n",
    "from tensorflow.keras import layers\n",
    "import sklearn.datasets\n",
    "import sklearn.model_selection\n",
    "from sklearn.preprocessing import OneHotEncoder\n",
    "\n",
    "# import mnist digits dataset\n",
    "mnist = tf.keras.datasets.mnist # Object of the MNIST dataset\n",
    "(x_train, y_train),(x_test, y_test) = mnist.load_data()"
   ]
  },
  {
   "cell_type": "code",
   "execution_count": 9,
   "metadata": {},
   "outputs": [],
   "source": [
    "# # DATA TRUNCATION FOR TEST\n",
    "# bite = 300\n",
    "# x_train = x_train[:bite]\n",
    "# y_train = y_train[:bite]\n",
    "# x_test = x_test[:bite]\n",
    "# y_test = y_test[:bite]"
   ]
  },
  {
   "cell_type": "code",
   "execution_count": 10,
   "metadata": {},
   "outputs": [],
   "source": [
    "# Normalize the train dataset\n",
    "x_train = tf.keras.utils.normalize(x_train, axis=1)\n",
    "# Normalize the test dataset\n",
    "x_test = tf.keras.utils.normalize(x_test, axis=1)\n",
    "\n"
   ]
  },
  {
   "cell_type": "markdown",
   "metadata": {},
   "source": [
    "# Hilbert Curve translation"
   ]
  },
  {
   "cell_type": "code",
   "execution_count": 11,
   "metadata": {},
   "outputs": [],
   "source": [
    "# Hilbert path generator\n",
    "# ALL CREDIT TO: https://github.com/jakubcerveny/gilbert/blob/master/gilbert2d.py\n",
    "# ALL CREDIT TO @jakubcerveny on GitHub\n",
    "\n",
    "def sgn(x):\n",
    "    return -1 if x < 0 else (1 if x > 0 else 0)\n",
    "\n",
    "def generate_path(x,y,ax,ay,bx,by):\n",
    "    w = abs(ax + ay)\n",
    "    h = abs(bx + by)\n",
    "\n",
    "    (dax, day) = (sgn(ax), sgn(ay)) # unit major direction\n",
    "    (dbx, dby) = (sgn(bx), sgn(by)) # unit orthogonal direction\n",
    "\n",
    "    if h == 1:\n",
    "        # trivial row fill\n",
    "        for i in range(0, w):\n",
    "            yield(x, y)\n",
    "            (x, y) = (x + dax, y + day)\n",
    "        return\n",
    "\n",
    "    if w == 1:\n",
    "        # trivial column fill\n",
    "        for i in range(0, h):\n",
    "            yield(x, y)\n",
    "            (x, y) = (x + dbx, y + dby)\n",
    "        return\n",
    "\n",
    "    (ax2, ay2) = (ax//2, ay//2)\n",
    "    (bx2, by2) = (bx//2, by//2)\n",
    "\n",
    "    w2 = abs(ax2 + ay2)\n",
    "    h2 = abs(bx2 + by2)\n",
    "\n",
    "    if 2*w > 3*h:\n",
    "        if (w2 % 2) and (w > 2):\n",
    "            # prefer even steps\n",
    "            (ax2, ay2) = (ax2 + dax, ay2 + day)\n",
    "\n",
    "        # long case: split in two parts only\n",
    "        yield from generate_path(x, y, ax2, ay2, bx, by)\n",
    "        yield from generate_path(x+ax2, y+ay2, ax-ax2, ay-ay2, bx, by)\n",
    "\n",
    "    else:\n",
    "        if (h2 % 2) and (h > 2):\n",
    "            # prefer even steps\n",
    "            (bx2, by2) = (bx2 + dbx, by2 + dby)\n",
    "\n",
    "        # standard case: one step up, one long horizontal, one step down\n",
    "        yield from generate_path(x, y, bx2, by2, ax2, ay2)\n",
    "        yield from generate_path(x+bx2, y+by2, ax, ay, bx-bx2, by-by2)\n",
    "        yield from generate_path(x+(ax-dax)+(bx2-dbx), y+(ay-day)+(by2-dby),\n",
    "                              -bx2, -by2, -(ax-ax2), -(ay-ay2))\n",
    "\n",
    "def hilbert_path(n):\n",
    "    yield from generate_path(0,0,n,0,0,n)\n"
   ]
  },
  {
   "cell_type": "code",
   "execution_count": 12,
   "metadata": {},
   "outputs": [],
   "source": [
    "def dim_reduction(image):\n",
    "    # Translate 2D image into 1D vector using Hilbert curve\n",
    "    # image: 2D numpy array (28x28) or (nxn)\n",
    "    # return: 1D numpy array\n",
    "    width = image.shape[0]\n",
    "    \n",
    "    # Generate Hilbert curve path\n",
    "    path = hilbert_path(width)\n",
    "    # 1D vector widthxwidth\n",
    "    vector = np.zeros(width*width)\n",
    "    # Fill vector with image values\n",
    "    for i, (x, y) in enumerate(path):\n",
    "        vector[i] = image[x][y]\n",
    "    return vector\n"
   ]
  },
  {
   "cell_type": "code",
   "execution_count": 13,
   "metadata": {},
   "outputs": [],
   "source": [
    "# Reduce 28x28 images to 14x14 images by averaging pixel values in 2x2 blocks\n",
    "def windowed_reduction(image):\n",
    "    # image: 2D numpy array (28x28) or (nxn)\n",
    "    # return: 2D numpy array (14x14)\n",
    "    width = image.shape[0]\n",
    "    # 2D array 14x14\n",
    "    reduced = np.zeros((width//2, width//2))\n",
    "    # Fill reduced with averages of 2x2 blocks\n",
    "    for i in range(0, width, 2):\n",
    "        for j in range(0, width, 2):\n",
    "            reduced[i//2][j//2] = (image[i][j] + image[i+1][j] + image[i][j+1] + image[i+1][j+1]) / 4\n",
    "    return reduced\n",
    "\n",
    "# display first image in dataset\n",
    "# plt.imshow(x_train[0], cmap=plt.cm.binary)\n",
    "\n",
    "x_train = np.array([windowed_reduction(image) for image in x_train])\n",
    "x_test = np.array([windowed_reduction(image) for image in x_test])\n",
    "\n",
    "# plt.imshow(x_train[0], cmap=plt.cm.binary)"
   ]
  },
  {
   "cell_type": "markdown",
   "metadata": {},
   "source": [
    "### Translating MNIST\n",
    "\n",
    "Note: This takes a long time!"
   ]
  },
  {
   "cell_type": "code",
   "execution_count": 14,
   "metadata": {},
   "outputs": [
    {
     "name": "stdout",
     "output_type": "stream",
     "text": [
      "(60000, 196)\n"
     ]
    }
   ],
   "source": [
    "# ONLY RUN ONE OF THE TWO BELOW\n",
    "\n",
    "# run for hilbert\n",
    "# x_train = np.array([dim_reduction(x) for x in x_train])\n",
    "# x_test = np.array([dim_reduction(x) for x in x_test])\n",
    "\n",
    "# run for naive\n",
    "x_train = x_train.reshape(x_train.shape[0], 196)\n",
    "x_test = x_test.reshape(x_test.shape[0], 196)\n",
    "\n",
    "\n",
    "print(x_train.shape)\n"
   ]
  },
  {
   "cell_type": "code",
   "execution_count": 15,
   "metadata": {},
   "outputs": [
    {
     "name": "stdout",
     "output_type": "stream",
     "text": [
      "(60000, 196)\n",
      "(60000, 1)\n"
     ]
    }
   ],
   "source": [
    "\n",
    "y_train = np.array(y_train)\n",
    "y_test = np.array(y_test)\n",
    "\n",
    "y_train = y_train.flatten().reshape(-1,1)\n",
    "y_test = y_test.flatten().reshape(-1,1)\n",
    "\n",
    "print(x_train.shape)\n",
    "print(y_train.shape)\n",
    "\n",
    "# One-hot encode labels\n",
    "enc = OneHotEncoder()\n",
    "y_train = enc.fit_transform(y_train.reshape(-1,1)).toarray()\n",
    "y_test = enc.fit_transform(y_test.reshape(-1,1)).toarray()"
   ]
  },
  {
   "cell_type": "markdown",
   "metadata": {},
   "source": [
    "# Recurrent Neural Network"
   ]
  },
  {
   "cell_type": "markdown",
   "metadata": {},
   "source": [
    "Problems w/ time series classification:\n",
    "- LSTM RNN Just takes windows of data and does recognition based off of that\n",
    "- Taking a sufficiently long window is literally just taking a snapshot of the image and running it thru RNN instead of CNN\n",
    "- wtf bro lmao."
   ]
  },
  {
   "cell_type": "code",
   "execution_count": 16,
   "metadata": {},
   "outputs": [],
   "source": [
    "model = tf.keras.models.Sequential()\n",
    "model.add(\n",
    "    # keras.layers.Bidirectional(\n",
    "      # keras.layers.SimpleRNN(\n",
    "      #     units=128,\n",
    "      #     input_shape=[x_train.shape[1], 1]\n",
    "      # )\n",
    "      keras.layers.LSTM(\n",
    "          units=128,\n",
    "          input_shape=[x_train.shape[1], 1]\n",
    "      )\n",
    "    # )\n",
    ")\n",
    "model.add(keras.layers.Dropout(rate=0.5))\n",
    "model.add(keras.layers.Dense(units=128, activation='relu'))\n",
    "model.add(keras.layers.Dense(y_train.shape[1], activation='softmax'))\n",
    "\n",
    "model.compile(\n",
    "  loss='categorical_crossentropy',\n",
    "  optimizer='adam',\n",
    "  metrics=['acc']\n",
    ")"
   ]
  },
  {
   "cell_type": "code",
   "execution_count": 17,
   "metadata": {},
   "outputs": [
    {
     "name": "stdout",
     "output_type": "stream",
     "text": [
      "(60000, 196) (60000, 10)\n",
      "Epoch 1/20\n",
      "1688/1688 [==============================] - 236s 138ms/step - loss: 1.4768 - acc: 0.4599 - val_loss: 1.1314 - val_acc: 0.5907\n",
      "Epoch 2/20\n",
      "1688/1688 [==============================] - 236s 140ms/step - loss: 1.2438 - acc: 0.5538 - val_loss: 1.1028 - val_acc: 0.6108\n",
      "Epoch 3/20\n",
      "1688/1688 [==============================] - 246s 146ms/step - loss: 1.1317 - acc: 0.6013 - val_loss: 0.8767 - val_acc: 0.6963\n",
      "Epoch 4/20\n",
      "1688/1688 [==============================] - 239s 141ms/step - loss: 0.9900 - acc: 0.6575 - val_loss: 0.7709 - val_acc: 0.7173\n",
      "Epoch 5/20\n",
      "1688/1688 [==============================] - 237s 141ms/step - loss: 0.7535 - acc: 0.7437 - val_loss: 0.4656 - val_acc: 0.8345\n",
      "Epoch 6/20\n",
      "1688/1688 [==============================] - 236s 140ms/step - loss: 0.5864 - acc: 0.8034 - val_loss: 0.3924 - val_acc: 0.8655\n",
      "Epoch 7/20\n",
      "1688/1688 [==============================] - 237s 140ms/step - loss: 0.4546 - acc: 0.8618 - val_loss: 0.3080 - val_acc: 0.9067\n",
      "Epoch 8/20\n",
      "1688/1688 [==============================] - 3523s 2s/step - loss: 0.3727 - acc: 0.8909 - val_loss: 0.2607 - val_acc: 0.9167\n",
      "Epoch 9/20\n",
      "1688/1688 [==============================] - 998s 592ms/step - loss: 0.3189 - acc: 0.9063 - val_loss: 0.2151 - val_acc: 0.9367\n",
      "Epoch 10/20\n",
      "1688/1688 [==============================] - 238s 141ms/step - loss: 0.2666 - acc: 0.9235 - val_loss: 0.2071 - val_acc: 0.9345\n",
      "Epoch 11/20\n",
      "1688/1688 [==============================] - 240s 142ms/step - loss: 0.2383 - acc: 0.9325 - val_loss: 0.1563 - val_acc: 0.9533\n",
      "Epoch 12/20\n",
      "1688/1688 [==============================] - 243s 144ms/step - loss: 0.2117 - acc: 0.9396 - val_loss: 0.1680 - val_acc: 0.9485\n",
      "Epoch 13/20\n",
      "1688/1688 [==============================] - 242s 143ms/step - loss: 0.1800 - acc: 0.9487 - val_loss: 0.1292 - val_acc: 0.9615\n",
      "Epoch 14/20\n",
      "1688/1688 [==============================] - 241s 143ms/step - loss: 0.1616 - acc: 0.9528 - val_loss: 0.1208 - val_acc: 0.9623\n",
      "Epoch 15/20\n",
      "1688/1688 [==============================] - 241s 143ms/step - loss: 0.1531 - acc: 0.9556 - val_loss: 0.1081 - val_acc: 0.9690\n",
      "Epoch 16/20\n",
      "1688/1688 [==============================] - 242s 144ms/step - loss: 0.1348 - acc: 0.9608 - val_loss: 0.0953 - val_acc: 0.9728\n",
      "Epoch 17/20\n",
      "1688/1688 [==============================] - 242s 143ms/step - loss: 0.1224 - acc: 0.9651 - val_loss: 0.0912 - val_acc: 0.9730\n",
      "Epoch 18/20\n",
      "1688/1688 [==============================] - 244s 145ms/step - loss: 0.1146 - acc: 0.9672 - val_loss: 0.0878 - val_acc: 0.9732\n",
      "Epoch 19/20\n",
      "1688/1688 [==============================] - 245s 145ms/step - loss: 0.1041 - acc: 0.9708 - val_loss: 0.0828 - val_acc: 0.9775\n",
      "Epoch 20/20\n",
      "1688/1688 [==============================] - 245s 145ms/step - loss: 0.0995 - acc: 0.9715 - val_loss: 0.0726 - val_acc: 0.9785\n"
     ]
    }
   ],
   "source": [
    "print(x_train.shape, y_train.shape)\n",
    "\n",
    "\n",
    "history = model.fit(\n",
    "    x_train, y_train,\n",
    "    epochs=20,\n",
    "    batch_size=32,\n",
    "    validation_split=0.1,\n",
    "    shuffle=False\n",
    ")"
   ]
  },
  {
   "cell_type": "code",
   "execution_count": 21,
   "metadata": {},
   "outputs": [
    {
     "name": "stdout",
     "output_type": "stream",
     "text": [
      "313/313 [==============================] - 13s 40ms/step - loss: 0.0750 - acc: 0.9784\n",
      "Test accuracy: 0.9783999919891357\n",
      "Test loss: 0.07502612471580505\n"
     ]
    },
    {
     "name": "stderr",
     "output_type": "stream",
     "text": [
      "C:\\Users\\blake\\AppData\\Local\\Temp\\ipykernel_9124\\3507171728.py:22: UserWarning: color is redundantly defined by the 'color' keyword argument and the fmt string \"b\" (-> color=(0.0, 0.0, 1.0, 1)). The keyword argument will take precedence.\n",
      "  plt.plot(epochs, val_acc, 'b', color='red', label='Validation acc')\n"
     ]
    },
    {
     "data": {
      "image/png": "[encoded data removed]",
      "text/plain": [
       "<Figure size 432x288 with 1 Axes>"
      ]
     },
     "metadata": {
      "needs_background": "light"
     },
     "output_type": "display_data"
    }
   ],
   "source": [
    "# test on testing set\n",
    "\n",
    "# print(x_test.shape)\n",
    "# print(y_test.shape)\n",
    "\n",
    "test_loss, test_acc = model.evaluate(x_test, y_test)\n",
    "9\n",
    "print('Test accuracy:', test_acc)\n",
    "print('Test loss:', test_loss)\n",
    "\n",
    "history_dict = history.history\n",
    "\n",
    "acc = history_dict['acc']\n",
    "val_acc = history_dict['val_acc']\n",
    "loss = history_dict['loss']\n",
    "val_loss = history_dict['val_loss']\n",
    "\n",
    "# plot acc, val_acc\n",
    "epochs = range(1, len(acc) + 1)\n",
    "\n",
    "plt.plot(epochs, acc, 'b', label='Training acc')\n",
    "plt.plot(epochs, val_acc, 'b', color='red', label='Validation acc')\n",
    "plt.title('Training and validation accuracy')\n",
    "plt.xlabel('Epochs')\n",
    "plt.ylabel('Accuracy')\n",
    "plt.legend()\n",
    "plt.savefig('Naive Training vs Valid.png')\n"
   ]
  },
  {
   "cell_type": "code",
   "execution_count": 22,
   "metadata": {},
   "outputs": [
    {
     "name": "stdout",
     "output_type": "stream",
     "text": [
      "313/313 [==============================] - 14s 45ms/step\n"
     ]
    },
    {
     "data": {
      "image/png": "[encoded data removed]",
      "text/plain": [
       "<Figure size 432x288 with 2 Axes>"
      ]
     },
     "metadata": {
      "needs_background": "light"
     },
     "output_type": "display_data"
    },
    {
     "data": {
      "text/plain": [
       "<Figure size 432x288 with 0 Axes>"
      ]
     },
     "metadata": {},
     "output_type": "display_data"
    }
   ],
   "source": [
    "# creating confusion matrix\n",
    "from sklearn.metrics import confusion_matrix, ConfusionMatrixDisplay\n",
    "\n",
    "y_pred = model.predict(\n",
    "    x_test,\n",
    "    batch_size=None,\n",
    "    verbose='auto',\n",
    "    steps=None,\n",
    "    callbacks=None,\n",
    "    max_queue_size=10,\n",
    "    workers=1,\n",
    "    use_multiprocessing=False\n",
    ")\n",
    "\n",
    "y_pred_prime = np.zeros_like(y_pred)\n",
    "for i in range(y_pred.shape[0]):  y_pred_prime[i][np.argmax(y_pred[i])] = 1\n",
    "\n",
    "cm = confusion_matrix(y_test.argmax(axis=1), y_pred_prime.argmax(axis=1))\n",
    "\n",
    "disp = ConfusionMatrixDisplay(confusion_matrix=cm, display_labels=list(range(0, 10)))\n",
    "disp.plot()\n",
    "plt.show()\n",
    "plt.savefig('Naive CM.png')"
   ]
  },
  {
   "cell_type": "code",
   "execution_count": null,
   "metadata": {},
   "outputs": [],
   "source": []
  }
 ],
 "metadata": {
  "kernelspec": {
   "display_name": "Python 3 (ipykernel)",
   "language": "python",
   "name": "python3"
  },
  "language_info": {
   "codemirror_mode": {
    "name": "ipython",
    "version": 3
   },
   "file_extension": ".py",
   "mimetype": "text/x-python",
   "name": "python",
   "nbconvert_exporter": "python",
   "pygments_lexer": "ipython3",
   "version": "3.9.12"
  },
  "vscode": {
   "interpreter": {
    "hash": "93986647664ea508ac635b1ed93d9c84b7e747e90f968af4a5ecab2c6c248f83"
   }
  }
 },
 "nbformat": 4,
 "nbformat_minor": 2
}
